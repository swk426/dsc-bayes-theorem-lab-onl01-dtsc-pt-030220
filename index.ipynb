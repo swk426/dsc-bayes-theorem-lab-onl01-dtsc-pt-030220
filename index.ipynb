{
 "cells": [
  {
   "cell_type": "markdown",
   "metadata": {},
   "source": [
    "# Bayes' Theorem - Lab\n",
    "\n",
    "## Introduction\n",
    "\n",
    "In this lab, you'll practice Bayes' Theorem in some simple word problems. \n",
    "\n",
    "## Objectives\n",
    "In this lab you will be able to: \n",
    "\n",
    "- Use Bayes' theorem to determine the probability of specific events "
   ]
  },
  {
   "cell_type": "markdown",
   "metadata": {},
   "source": [
    "## Define a custom function for Bayes' theorem\n",
    "\n",
    "To start, write a function, `bayes()`, which takes in the probability of A, the probability of B, and the probability of B given A. From this, the function should then return the conditional probability of A, given that B is true."
   ]
  },
  {
   "cell_type": "code",
   "execution_count": 1,
   "metadata": {},
   "outputs": [],
   "source": [
    "def bayes(P_a, P_b, P_b_given_a):\n",
    "    P_a_given_b = (P_b_given_a)*P_a/P_b\n",
    "    # Your code here\n",
    "    return P_a_given_b"
   ]
  },
  {
   "cell_type": "markdown",
   "metadata": {},
   "source": [
    "## Skin Cancer\n",
    "\n",
    "After a physical exam, a doctor observes a blemish on a client's arm. The doctor is concerned that the blemish could be cancerous, but tells the patient to be calm and that it's probably benign. Of those with skin cancer, 100% have such blemishes. However, 20% of those without skin cancer also have such blemishes. If 15% of the population has skin cancer, what's the probability that this patient has skin cancer? \n",
    "\n",
    "> Hint: Be sure to calculate the overall rate of blemishes across the entire population."
   ]
  },
  {
   "cell_type": "code",
   "execution_count": 6,
   "metadata": {},
   "outputs": [
    {
     "data": {
      "text/plain": [
       "0.46875"
      ]
     },
     "execution_count": 6,
     "metadata": {},
     "output_type": "execute_result"
    }
   ],
   "source": [
    "bayes(.15,.32,1)# Your code here"
   ]
  },
  {
   "cell_type": "markdown",
   "metadata": {},
   "source": [
    "## Children (I) \n",
    "\n",
    "A couple has two children, the older of which is a boy. What is the probability that they have two boys?"
   ]
  },
  {
   "cell_type": "code",
   "execution_count": 9,
   "metadata": {},
   "outputs": [
    {
     "data": {
      "text/plain": [
       "0.5"
      ]
     },
     "execution_count": 9,
     "metadata": {},
     "output_type": "execute_result"
    }
   ],
   "source": [
    "bayes(1,1,.5)# Your solution P(2boys|older child is a boy)"
   ]
  },
  {
   "cell_type": "markdown",
   "metadata": {},
   "source": [
    "## Children  (II)\n",
    "\n",
    "A couple has two children, one of which is a boy. What is the probability that they have two boys?"
   ]
  },
  {
   "cell_type": "code",
   "execution_count": 12,
   "metadata": {},
   "outputs": [
    {
     "data": {
      "text/plain": [
       "0.333333"
      ]
     },
     "execution_count": 12,
     "metadata": {},
     "output_type": "execute_result"
    }
   ],
   "source": [
    "bayes(.666666,.6666666,.3333333)\n",
    "# Your solution P(2boys|1 of 2 children is a boy)"
   ]
  },
  {
   "cell_type": "markdown",
   "metadata": {},
   "source": [
    "## A diagnostic test\n",
    "\n",
    "A diagnostic test is advertised as being 99% accurate \n",
    "\n",
    "* If a patient has the disease, they  will test positive 99% of the time \n",
    "\n",
    "* If they don't have the disease, they will test negative 99% of the time  \n",
    "\n",
    "* 1% of all people have this disease \n",
    "\n",
    "If a patient tests positive, what is the probability that they actually have the disease?"
   ]
  },
  {
   "cell_type": "code",
   "execution_count": 15,
   "metadata": {},
   "outputs": [
    {
     "data": {
      "text/plain": [
       "0.5"
      ]
     },
     "execution_count": 15,
     "metadata": {},
     "output_type": "execute_result"
    }
   ],
   "source": [
    "bayes(.01,.0198,.99)# Your solution P(Disease | positive test)"
   ]
  },
  {
   "cell_type": "markdown",
   "metadata": {},
   "source": [
    "## Summary \n",
    "\n",
    "In this lab, you practiced a few simple examples of Bayesian logic and how you can add prior information to update your beliefs about the chance of events."
   ]
  }
 ],
 "metadata": {
  "kernelspec": {
   "display_name": "Python 3",
   "language": "python",
   "name": "python3"
  },
  "language_info": {
   "codemirror_mode": {
    "name": "ipython",
    "version": 3
   },
   "file_extension": ".py",
   "mimetype": "text/x-python",
   "name": "python",
   "nbconvert_exporter": "python",
   "pygments_lexer": "ipython3",
   "version": "3.6.9"
  }
 },
 "nbformat": 4,
 "nbformat_minor": 2
}
